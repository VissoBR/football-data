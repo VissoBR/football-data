{
  "nbformat": 4,
  "nbformat_minor": 0,
  "metadata": {
    "colab": {
      "provenance": [],
      "collapsed_sections": [],
      "authorship_tag": "ABX9TyMyxHWjVvFWODhfwvix5WIH",
      "include_colab_link": true
    },
    "kernelspec": {
      "name": "python3",
      "display_name": "Python 3"
    },
    "language_info": {
      "name": "python"
    }
  },
  "cells": [
    {
      "cell_type": "markdown",
      "metadata": {
        "id": "view-in-github",
        "colab_type": "text"
      },
      "source": [
        "<a href=\"https://colab.research.google.com/github/VissoBR/football-data/blob/main/Juntando_planilhas.ipynb\" target=\"_parent\"><img src=\"https://colab.research.google.com/assets/colab-badge.svg\" alt=\"Open In Colab\"/></a>"
      ]
    },
    {
      "cell_type": "code",
      "execution_count": 3,
      "metadata": {
        "id": "RCUyVMxN4XmO"
      },
      "outputs": [],
      "source": [
        "#Importando as bibliotecas\n",
        "\n",
        "import pandas as pd"
      ]
    },
    {
      "cell_type": "code",
      "source": [
        "#Importando a base de dados\n",
        "#Exemplo Inglaterra\n",
        "ENG1 = pd.read_excel('https://github.com/VissoBR/football-data-BD/blob/main/Base_de_Dados_Alemanha_1.xlsx?raw=true')\n",
        "ENG2 = pd.read_excel('https://github.com/VissoBR/football-data-BD/blob/main/Base_de_Dados_Inglaterra_2.xlsx?raw=true')\n",
        "\n",
        "#juntando as tabelas\n",
        "ENG = [ENG1,ENG2]\n",
        "\n",
        "#Colocando em uma única tabela\n",
        "ENG = pd.concat(ENG)"
      ],
      "metadata": {
        "id": "Ag8tUejQ4-zg"
      },
      "execution_count": 4,
      "outputs": []
    }
  ]
}