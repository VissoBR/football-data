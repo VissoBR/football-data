{
  "nbformat": 4,
  "nbformat_minor": 0,
  "metadata": {
    "colab": {
      "provenance": [],
      "authorship_tag": "ABX9TyNfjbKtLNuvIcjcPD9ddllW",
      "include_colab_link": true
    },
    "kernelspec": {
      "name": "python3",
      "display_name": "Python 3"
    },
    "language_info": {
      "name": "python"
    }
  },
  "cells": [
    {
      "cell_type": "markdown",
      "metadata": {
        "id": "view-in-github",
        "colab_type": "text"
      },
      "source": [
        "<a href=\"https://colab.research.google.com/github/VissoBR/football-data/blob/main/Criando_BD_Ligas_secundarias.ipynb\" target=\"_parent\"><img src=\"https://colab.research.google.com/assets/colab-badge.svg\" alt=\"Open In Colab\"/></a>"
      ]
    },
    {
      "cell_type": "code",
      "execution_count": null,
      "metadata": {
        "id": "AtPQl7LrQt88"
      },
      "outputs": [],
      "source": [
        "#importando as bibliotecas python\n",
        "import pandas as pd"
      ]
    },
    {
      "cell_type": "code",
      "source": [
        "#baixando o arquivo das temporadas gravadas\n",
        "# Argentina 1\n",
        "\n",
        "ARG1 = pd.read_csv('https://www.football-data.co.uk/new/ARG.csv')\n",
        "\n",
        "#juntando os arquivos em uma única tupla\n",
        "ARG1 = [ARG1]\n",
        "ARG1 = pd.concat(ARG1)\n",
        "\n",
        "#inserindo uma coluna na tabela com o nome da Liga\n",
        "ARG1['Liga'] = 'Argentina 1'"
      ],
      "metadata": {
        "id": "NFLH_tvZRR15"
      },
      "execution_count": null,
      "outputs": []
    },
    {
      "cell_type": "code",
      "source": [
        "#definindo as colunas para trabalhar\n",
        "ARG1 = ARG1[['Liga','Date','Home','Away','HG','AG','Res','PH','PD','PA']]\n",
        "\n",
        "#renomeando as Colunas\n",
        "ARG1.columns = ['Liga','Data','Tima_Casa','Time_Fora','FT_Gols_Casa','FT_Gols_Fora','FT_Resultado','Odds_Casa','Odds_Empate','Odds_Fora']"
      ],
      "metadata": {
        "id": "U1ORIQpYT-cA"
      },
      "execution_count": null,
      "outputs": []
    },
    {
      "cell_type": "code",
      "source": [
        "# vendo as informações da tabela\n",
        "#ARG1.info()"
      ],
      "metadata": {
        "id": "8XZR3CDHYpX2"
      },
      "execution_count": null,
      "outputs": []
    },
    {
      "cell_type": "code",
      "source": [
        "#ARG1"
      ],
      "metadata": {
        "id": "upgTJ3t-ZMgN"
      },
      "execution_count": null,
      "outputs": []
    },
    {
      "cell_type": "code",
      "source": [
        "# Ajustando o Índice para o jogo 1 começar com 1 e não 0\n",
        "ARG1.reset_index(inplace=True, drop=True)\n",
        "ARG1.index = ARG1.index.set_names(['Nº do Jogo'])\n",
        "ARG1 = ARG1.rename(index=lambda x: x + 1)"
      ],
      "metadata": {
        "id": "SXaKKzX-Ylf5"
      },
      "execution_count": null,
      "outputs": []
    },
    {
      "cell_type": "code",
      "source": [
        "#Importando arquivo para o excel\n",
        "ARG1.to_excel(\"Base_de_Dados_Argentina_1.xlsx\", index=False)"
      ],
      "metadata": {
        "id": "wX6IywdBZcAK"
      },
      "execution_count": null,
      "outputs": []
    }
  ]
}