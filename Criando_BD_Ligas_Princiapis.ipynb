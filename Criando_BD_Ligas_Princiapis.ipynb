{
  "nbformat": 4,
  "nbformat_minor": 0,
  "metadata": {
    "colab": {
      "provenance": [],
      "collapsed_sections": [],
      "authorship_tag": "ABX9TyOshLb5mDLanbz1hUq3Nf15",
      "include_colab_link": true
    },
    "kernelspec": {
      "name": "python3",
      "display_name": "Python 3"
    },
    "language_info": {
      "name": "python"
    }
  },
  "cells": [
    {
      "cell_type": "markdown",
      "metadata": {
        "id": "view-in-github",
        "colab_type": "text"
      },
      "source": [
        "<a href=\"https://colab.research.google.com/github/VissoBR/football-data/blob/main/Criando_BD_Ligas_Princiapis.ipynb\" target=\"_parent\"><img src=\"https://colab.research.google.com/assets/colab-badge.svg\" alt=\"Open In Colab\"/></a>"
      ]
    },
    {
      "cell_type": "code",
      "execution_count": null,
      "metadata": {
        "id": "AtPQl7LrQt88"
      },
      "outputs": [],
      "source": [
        "#importando as bibliotecas python\n",
        "import pandas as pd"
      ]
    },
    {
      "cell_type": "code",
      "source": [
        "#baixando os arquivos das últimas 10 temporadas\n",
        "# Alemanha 1\n",
        "\n",
        "GER1_01 = pd.read_csv(\"https://www.football-data.co.uk/mmz4281/2122/D1.csv\")\n",
        "GER1_02 = pd.read_csv(\"https://www.football-data.co.uk/mmz4281/2021/D1.csv\")\n",
        "GER1_03 = pd.read_csv(\"https://www.football-data.co.uk/mmz4281/1920/D1.csv\")\n",
        "GER1_04 = pd.read_csv(\"https://www.football-data.co.uk/mmz4281/1819/D1.csv\")\n",
        "GER1_05 = pd.read_csv(\"https://www.football-data.co.uk/mmz4281/1718/D1.csv\")\n",
        "GER1_06 = pd.read_csv(\"https://www.football-data.co.uk/mmz4281/1617/D1.csv\")\n",
        "GER1_07 = pd.read_csv(\"https://www.football-data.co.uk/mmz4281/1516/D1.csv\")\n",
        "GER1_08 = pd.read_csv(\"https://www.football-data.co.uk/mmz4281/1415/D1.csv\")\n",
        "GER1_09 = pd.read_csv(\"https://www.football-data.co.uk/mmz4281/1314/D1.csv\")\n",
        "GER1_10 = pd.read_csv(\"https://www.football-data.co.uk/mmz4281/1213/D1.csv\")\n",
        "\n",
        "#juntando os arquivos em uma única tupla\n",
        "GER1 = [GER1_01,GER1_02,GER1_03,GER1_04,GER1_05,GER1_06,GER1_07,GER1_08,GER1_09,GER1_10]\n",
        "\n",
        "#juntando tudo em uma única planilha\n",
        "GER1 = pd.concat(GER1)\n",
        "\n",
        "#inserindo uma coluna na tabela com o nome da Liga\n",
        "GER1['Liga'] = 'Alemanha 1'"
      ],
      "metadata": {
        "id": "NFLH_tvZRR15"
      },
      "execution_count": null,
      "outputs": []
    },
    {
      "cell_type": "code",
      "source": [
        "#definindo as colunas para trabalhar\n",
        "GER1 = GER1[['Liga','Date','HomeTeam','AwayTeam','FTHG','FTAG','FTR','HTHG','HTAG','HTR','B365H','B365D','B365A','B365>2.5']]\n",
        "\n",
        "#renomeando as Colunas\n",
        "GER1.columns = ['Liga','Data','Tima_Casa','Time_Fora','FT_Gols_Casa','FT_Gols_Fora','FT_Resultado','HT_Gols_Casa','HT_Gols_Fora','HT_Resultado','Odds_Casa','Odds_Empate','Odds_Fora','Over_2.5']"
      ],
      "metadata": {
        "id": "U1ORIQpYT-cA"
      },
      "execution_count": null,
      "outputs": []
    },
    {
      "cell_type": "code",
      "source": [
        "# vendo as informações da tabela\n",
        "#GER1.info()"
      ],
      "metadata": {
        "id": "8XZR3CDHYpX2"
      },
      "execution_count": null,
      "outputs": []
    },
    {
      "cell_type": "code",
      "source": [
        "#GER1"
      ],
      "metadata": {
        "id": "upgTJ3t-ZMgN"
      },
      "execution_count": null,
      "outputs": []
    },
    {
      "cell_type": "code",
      "source": [
        "# Ajustando o Índice para o jogo 1 começar com 1 e não 0\n",
        "GER1.reset_index(inplace=True, drop=True)\n",
        "GER1.index = GER1.index.set_names(['Nº do Jogo'])\n",
        "GER1 = GER1.rename(index=lambda x: x + 1)"
      ],
      "metadata": {
        "id": "SXaKKzX-Ylf5"
      },
      "execution_count": null,
      "outputs": []
    },
    {
      "cell_type": "code",
      "source": [
        "#Importando arquivo para o excel\n",
        "GER1.to_excel(\"Base_de_Dados_Alemanha_1.xlsx\", index=False)"
      ],
      "metadata": {
        "id": "wX6IywdBZcAK"
      },
      "execution_count": null,
      "outputs": []
    }
  ]
}