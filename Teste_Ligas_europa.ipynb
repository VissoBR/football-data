{
  "nbformat": 4,
  "nbformat_minor": 0,
  "metadata": {
    "colab": {
      "provenance": [],
      "collapsed_sections": [],
      "authorship_tag": "ABX9TyPeS6Xj/U78igRB+aba/oXn",
      "include_colab_link": true
    },
    "kernelspec": {
      "name": "python3",
      "display_name": "Python 3"
    },
    "language_info": {
      "name": "python"
    }
  },
  "cells": [
    {
      "cell_type": "markdown",
      "metadata": {
        "id": "view-in-github",
        "colab_type": "text"
      },
      "source": [
        "<a href=\"https://colab.research.google.com/github/VissoBR/football-data/blob/main/Teste_Ligas_europa.ipynb\" target=\"_parent\"><img src=\"https://colab.research.google.com/assets/colab-badge.svg\" alt=\"Open In Colab\"/></a>"
      ]
    },
    {
      "cell_type": "code",
      "execution_count": null,
      "metadata": {
        "id": "2x3Yq5rtI1mI"
      },
      "outputs": [],
      "source": [
        "#importando as tabelas\n",
        "import pandas as pd\n",
        "import numpy as np\n",
        "from google.colab import data_table\n",
        "data_table.enable_dataframe_formatter()"
      ]
    },
    {
      "cell_type": "code",
      "source": [
        "#importando a base de dados\n",
        "df = pd.read_excel('https://github.com/VissoBR/football-data/blob/main/Base_de_Dados_Full%20(3).xlsx?raw=true')"
      ],
      "metadata": {
        "id": "3q1HLS8BJYI2"
      },
      "execution_count": null,
      "outputs": []
    },
    {
      "cell_type": "code",
      "source": [
        "# vendo as informações da tabela\n",
        "df.info()"
      ],
      "metadata": {
        "id": "2IF7EE_cDIo-"
      },
      "execution_count": null,
      "outputs": []
    },
    {
      "cell_type": "code",
      "source": [
        "# limpando os dados sem informação\n",
        "df = df.dropna()"
      ],
      "metadata": {
        "id": "9-zP5lSZD4kT"
      },
      "execution_count": null,
      "outputs": []
    },
    {
      "cell_type": "code",
      "source": [
        "# vendo as informações da tabela\n",
        "df.info()"
      ],
      "metadata": {
        "id": "Yx4ot2tiEFam"
      },
      "execution_count": null,
      "outputs": []
    },
    {
      "cell_type": "code",
      "source": [
        "#definindo as porcentagens de Over\n",
        "df['%_Over_0,5HT_Home'] = (df.groupby('Mandante')['Over_0,5HT'].rolling(window=5, min_periods=1).mean().reset_index(0,drop=True) * 100)\n",
        "df['%_Over_0,5HT_Away'] = (df.groupby('Visitante')['Over_0,5HT'].rolling(window=5, min_periods=1).mean().reset_index(0,drop=True) * 100)\n",
        "\n",
        "df['%_Over_0,5FT_Home'] = (df.groupby('Mandante')['Over_0,5FT'].rolling(window=5, min_periods=1).mean().reset_index(0,drop=True) * 100)\n",
        "df['%_Over_0,5FT_Away'] = (df.groupby('Visitante')['Over_0,5FT'].rolling(window=5, min_periods=1).mean().reset_index(0,drop=True) * 100)\n",
        "\n",
        "df['%_Over_1,5FT_Home'] = (df.groupby('Mandante')['Over_1,5FT'].rolling(window=5, min_periods=1).mean().reset_index(0,drop=True) * 100)\n",
        "df['%_Over_1,5FT_Away'] = (df.groupby('Visitante')['Over_1,5FT'].rolling(window=5, min_periods=1).mean().reset_index(0,drop=True) * 100)\n",
        "\n",
        "df['%_Over_2,5FT_Home'] = (df.groupby('Mandante')['Over_2,5FT'].rolling(window=5, min_periods=1).mean().reset_index(0,drop=True) * 100)\n",
        "df['%_Over_2,5FT_Away'] = (df.groupby('Visitante')['Over_2,5FT'].rolling(window=5, min_periods=1).mean().reset_index(0,drop=True) * 100)\n",
        "\n",
        "df['%_BTTS_Home'] = (df.groupby('Mandante')['Ambas_Marcam'].rolling(window=5, min_periods=1).mean().reset_index(0,drop=True) * 100)\n",
        "df['%_BTTS_Away'] = (df.groupby('Visitante')['Ambas_Marcam'].rolling(window=5, min_periods=1).mean().reset_index(0,drop=True) * 100)"
      ],
      "metadata": {
        "id": "Ng3O-9vWFgci"
      },
      "execution_count": null,
      "outputs": []
    },
    {
      "cell_type": "code",
      "source": [
        "#estatistica de pontos\n",
        "# Média\n",
        "df['Media_Pontos_H'] = df.groupby('Mandante')['Pontos_H'].rolling(window=5, min_periods=1).mean().reset_index(0,drop=True)\n",
        "df['Media_Pontos_A'] = df.groupby('Visitante')['Pontos_A'].rolling(window=5, min_periods=1).mean().reset_index(0,drop=True)\n",
        "\n",
        "# Desvio Padrão\n",
        "df['DP_Pontos_H'] = df.groupby('Mandante')['Pontos_H'].rolling(window=5, min_periods=1).std().reset_index(0,drop=True)\n",
        "df['DP_Pontos_A'] = df.groupby('Visitante')['Pontos_A'].rolling(window=5, min_periods=1).std().reset_index(0,drop=True)\n",
        "\n",
        "# Coeficiente de Variação\n",
        "df['CV_Pontos_H'] = df['DP_Pontos_H'] / df['Media_Pontos_H']\n",
        "df['CV_Pontos_A'] = df['DP_Pontos_A'] / df['Media_Pontos_A']"
      ],
      "metadata": {
        "id": "AXUSVw6rJCxb"
      },
      "execution_count": null,
      "outputs": []
    },
    {
      "cell_type": "code",
      "source": [
        "# Estatísticas de Gols\n",
        "\n",
        "# Média\n",
        "df['Media_Gols_Feitos_Home'] = df.groupby('Mandante')['Gols Mandante'].rolling(window=5, min_periods=1).mean().reset_index(0,drop=True)\n",
        "df['Media_Gols_Sofridos_Home'] = df.groupby('Mandante')['Gols visitante'].rolling(window=5, min_periods=1).mean().reset_index(0,drop=True)\n",
        "\n",
        "df['Media_Gols_Feitos_Away'] = df.groupby('Visitante')['Gols visitante'].rolling(window=5, min_periods=1).mean().reset_index(0,drop=True)\n",
        "df['Media_Gols_Sofridos_Away'] = df.groupby('Visitante')['Gols Mandante'].rolling(window=5, min_periods=1).mean().reset_index(0,drop=True)\n",
        "\n",
        "# Desvio Padrão\n",
        "df['DP_Gols_Feitos_Home'] = df.groupby('Mandante')['Gols Mandante'].rolling(window=5, min_periods=1).std().reset_index(0,drop=True)\n",
        "df['DP_Gols_Sofridos_Home'] = df.groupby('Mandante')['Gols visitante'].rolling(window=5, min_periods=1).std().reset_index(0,drop=True)\n",
        "\n",
        "df['DP_Gols_Feitos_Away'] = df.groupby('Visitante')['Gols visitante'].rolling(window=5, min_periods=1).std().reset_index(0,drop=True)\n",
        "df['DP_Gols_Sofridos_Away'] = df.groupby('Visitante')['Gols Mandante'].rolling(window=5, min_periods=1).std().reset_index(0,drop=True)\n",
        "\n",
        "# Coeficiente de Variação\n",
        "df['CV_Gols_Feitos_Home'] = (df['DP_Gols_Feitos_Home'] / df['Media_Gols_Feitos_Home'])\n",
        "df['CV_Gols_Sofridos_Home'] = (df['DP_Gols_Sofridos_Home'] / df['Media_Gols_Sofridos_Home'])\n",
        "\n",
        "df['CV_Gols_Feitos_Away'] = (df['DP_Gols_Feitos_Away'] / df['Media_Gols_Feitos_Away'])\n",
        "df['CV_Gols_Sofridos_Away'] = (df['DP_Gols_Sofridos_Away'] / df['Media_Gols_Sofridos_Away'])"
      ],
      "metadata": {
        "id": "NreKBrbCKDHh"
      },
      "execution_count": null,
      "outputs": []
    },
    {
      "cell_type": "code",
      "source": [
        "# Probabilidades\n",
        "df['p(H)'] = df.apply(lambda row: (1/ row['Odds_mandante']), axis=1)\n",
        "df['p(D)'] = df.apply(lambda row: (1/ row['Odds_empate']), axis=1)\n",
        "df['p(A)'] = df.apply(lambda row: (1/ row['Odds_Visitante']), axis=1)"
      ],
      "metadata": {
        "id": "lK2rGc4_KubA"
      },
      "execution_count": null,
      "outputs": []
    },
    {
      "cell_type": "code",
      "source": [
        "df.info()"
      ],
      "metadata": {
        "id": "6Mt7TV6kLSrg"
      },
      "execution_count": null,
      "outputs": []
    },
    {
      "cell_type": "code",
      "source": [
        "df = df.dropna()"
      ],
      "metadata": {
        "id": "VHMQob1tLapk"
      },
      "execution_count": null,
      "outputs": []
    },
    {
      "cell_type": "code",
      "source": [
        "df.info()"
      ],
      "metadata": {
        "id": "2cvRsc_vLdCx"
      },
      "execution_count": null,
      "outputs": []
    },
    {
      "cell_type": "code",
      "source": [
        "df.to_excel(\"Base_de_Dados_(Variaveis_Secundarias).xlsx\")"
      ],
      "metadata": {
        "id": "-S2LtAtTK-Sf"
      },
      "execution_count": null,
      "outputs": []
    }
  ]
}